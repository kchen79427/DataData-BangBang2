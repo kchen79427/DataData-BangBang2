{
    "cells": [
        {
            "cell_type": "markdown",
            "metadata": {
                "collapsed": true
            },
            "source": "## Battle of The Neighborhoods: Barry's Bootcamp\n---\n\n**_Project Background:_**\n\nAs millennials are becoming the major consumer force, companies are tailoring their products and services to the millennial consumers.\n\nStudies done by the Pew Research Center have found that millennials are making more personal improvement commitments than other generations before. According to the 2016 IHRSA Health Club Consumer report, millennial consumers prefer specialized classes over a traditional gym membership with workout machines.\n\nBarry\u2019s Bootcamp is one of the most popular boutique workout studios that provides an intense specialized cross-training workout, and a community with a cult-like following. As the profit margins continues to soar, Barry\u2019s is looking to expand in areas where there is a growing population and consumer wealth.\n\nWith Seattle continual tech-boom, it\u2019s no surprise that it is one of the fastest growing cities in the U.S., and with that more and more wealthy people are moving into the city. After opening its first successful branch in the South Lake Union neighborhood of Seattle, Barry\u2019s is looking to open more locations to accommodate the city\u2019s demand for specialized and community-based workouts.\n\nAfter initial research, Barry\u2019s is looking to open a second location in the Capitol Hill neighborhood due to its concentration of wealthy millennial consumers. Barry\u2019s around the world have primarily a single location in each major city, except for New York City, Los Angeles, San Francisco, and Chicago. San Francisco is like Seattle both in the most popular industries (technology) and the size of the cities. I will be examining the four Barry\u2019s locations in San Francisco to find the surrounding shops, retailers, and venues that trend highly on Foursquare, and with this information, I will seek to find several possible locations to open the next Barry\u2019s Bootcamp branch in Seattle\u2019s Capitol Hill neighborhood.\n\n\n**_Data Requirement and Collection:_**\n\nI will be gathering the location data: coordinates, business categories, and distance to the Barry\u2019s locations in San Francisco.\n\nI will be using the foursquare API to explore the four Barry\u2019s locations:\n\n* Barry's FiDi location: '333 Bush St, San Francisco, CA'\n* Barry's Marina location: '2246 Lombard St, San Francisco, CA'\n* Barry\u2019s SoMa Location: '236 King St, San Francisco, CA'\n* Barry\u2019s Castro location: '2280 Market Street San Francisco, CA'\n\nI will also be gathering the location data in the Capitol Hill neighborhood and the businesses around it from this same source.\n\n**_References:_**\n* https://www.ft.com/content/194cd1c8-6583-11e8-a39d-4df188287fff\n* https://www.npr.org/2017/06/04/531051473/the-millennial-obsession-with-self-care\n* https://www.marketwatch.com/story/this-is-the-insane-amount-millennials-are-spending-on-fitness-2018-01-21\n* https://www.seattletimes.com/pacific-nw-magazine/seattles-newest-boom-and-the-wealth-it-has-created-are-thrilling-and-terrifying/\n\n"
        },
        {
            "cell_type": "code",
            "execution_count": null,
            "metadata": {},
            "outputs": [],
            "source": ""
        }
    ],
    "metadata": {
        "kernelspec": {
            "display_name": "Python 3.6",
            "language": "python",
            "name": "python3"
        },
        "language_info": {
            "codemirror_mode": {
                "name": "ipython",
                "version": 3
            },
            "file_extension": ".py",
            "mimetype": "text/x-python",
            "name": "python",
            "nbconvert_exporter": "python",
            "pygments_lexer": "ipython3",
            "version": "3.6.9"
        }
    },
    "nbformat": 4,
    "nbformat_minor": 1
}